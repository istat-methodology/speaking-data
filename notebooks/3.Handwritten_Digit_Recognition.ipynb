{
  "nbformat": 4,
  "nbformat_minor": 0,
  "metadata": {
    "colab": {
      "provenance": []
    },
    "kernelspec": {
      "name": "python3",
      "display_name": "Python 3"
    },
    "language_info": {
      "name": "python"
    }
  },
  "cells": [
    {
      "cell_type": "markdown",
      "source": [
        "# Handwritten Digit Recognition"
      ],
      "metadata": {
        "id": "1TZm9SVngTtF"
      }
    },
    {
      "cell_type": "markdown",
      "source": [
        "## Imports"
      ],
      "metadata": {
        "id": "mOfqMuoLgQ09"
      }
    },
    {
      "cell_type": "code",
      "execution_count": 2,
      "metadata": {
        "id": "e_-vd2EPe-2P"
      },
      "outputs": [],
      "source": [
        "import numpy as np\n",
        "import matplotlib.pyplot as plt\n",
        "\n",
        "from tensorflow.keras import Input\n",
        "from tensorflow.keras.datasets import mnist\n",
        "from tensorflow.keras.models import Sequential\n",
        "from tensorflow.keras.layers import Dense, Flatten\n",
        "from tensorflow.keras.utils import to_categorical\n"
      ]
    },
    {
      "cell_type": "markdown",
      "source": [
        "## Historical Importance of the MNIST Dataset\n",
        "\n",
        "The MNIST (Modified National Institute of Standards and Technology) dataset is a large database of handwritten digits that is commonly used for training various image processing systems and machine learning algorithms.\n",
        "\n",
        "**Historical Significance:**\n",
        "\n",
        "* **Benchmark Dataset:** MNIST has served as a fundamental benchmark dataset for evaluating and comparing machine learning algorithms, particularly in the fields of image recognition and classification.\n",
        "* **Early Adoption:** Its widespread use in the early stages of machine learning research contributed to the advancement and development of new techniques and approaches.\n",
        "* **Accessibility and Simplicity:** The dataset's simplicity and accessibility made it easy for researchers to experiment with different algorithms and compare results, accelerating progress in the field.\n",
        "* **Foundation for Innovation:** MNIST played a crucial role in establishing a foundation for further research in areas like computer vision, deep learning, and artificial intelligence.\n",
        "\n",
        "Despite its limitations and the development of more complex datasets, MNIST remains a valuable resource for educational purposes and initial explorations in image recognition tasks."
      ],
      "metadata": {
        "id": "fvPQqrc1gICt"
      }
    },
    {
      "cell_type": "code",
      "source": [
        "#Load MNIST dataset\n",
        "(x_train, y_train), (x_test, y_test) = mnist.load_data()\n",
        "\n",
        "# Train and test shape\n",
        "print(f\"Training set - Images: {x_train.shape}, Labels: {y_train.shape[0]}\")\n",
        "print(f\"Test set - Images: {x_test.shape}, Labels: {y_test.shape[0]}\")\n",
        "\n",
        "# Training set min and max values\n",
        "print(f\"Training set - Min: {x_train.min()}, Max: {x_train.max()}\")\n",
        "print(f\"Labels - Min: {y_train.min()}, Max: {y_train.max()}\")"
      ],
      "metadata": {
        "colab": {
          "base_uri": "https://localhost:8080/"
        },
        "id": "29eIG8__ffmj",
        "outputId": "6d74094d-3cb9-43ce-c3d6-1d934003bcbb"
      },
      "execution_count": 10,
      "outputs": [
        {
          "output_type": "stream",
          "name": "stdout",
          "text": [
            "Training set - Images: (60000, 28, 28), Labels: 60000\n",
            "Test set - Images: (10000, 28, 28), Labels: 10000\n",
            "Training set - Min: 0, Max: 255\n",
            "Labels - Min: 0, Max: 9\n"
          ]
        }
      ]
    },
    {
      "cell_type": "markdown",
      "source": [
        "Display a set of Digits and the corresponding Labels"
      ],
      "metadata": {
        "id": "0Uc4HLMxgjvh"
      }
    },
    {
      "cell_type": "code",
      "source": [
        "plt.figure(figsize=(10, 4))\n",
        "for i in range(12):\n",
        "    plt.subplot(2, 6, i + 1)\n",
        "    plt.imshow(x_train[i], cmap='gray')\n",
        "    plt.title(f\"Label: {y_train[i]}\")\n",
        "    plt.axis('off')\n",
        "plt.tight_layout()\n",
        "plt.show()"
      ],
      "metadata": {
        "colab": {
          "base_uri": "https://localhost:8080/",
          "height": 393
        },
        "id": "isL44gbofO8C",
        "outputId": "7274fb51-af1b-4b5c-e759-f8681911006c"
      },
      "execution_count": 4,
      "outputs": [
        {
          "output_type": "display_data",
          "data": {
            "text/plain": [
              "<Figure size 1000x400 with 12 Axes>"
            ],
            "image/png": "[encoded data removed]"
          },
          "metadata": {}
        }
      ]
    },
    {
      "cell_type": "markdown",
      "source": [
        "Display classes distribution"
      ],
      "metadata": {
        "id": "z4nr3VYRgp1D"
      }
    },
    {
      "cell_type": "code",
      "source": [
        "unique, counts = np.unique(y_train, return_counts=True)\n",
        "for label, count in zip(unique, counts):\n",
        "    print(f\"Digit {label}: {count} examples\")"
      ],
      "metadata": {
        "colab": {
          "base_uri": "https://localhost:8080/"
        },
        "id": "wubVDQwPgeB-",
        "outputId": "67d5681e-3202-4edb-ca6c-04a007092826"
      },
      "execution_count": 5,
      "outputs": [
        {
          "output_type": "stream",
          "name": "stdout",
          "text": [
            "Digit 0: 5923 examples\n",
            "Digit 1: 6742 examples\n",
            "Digit 2: 5958 examples\n",
            "Digit 3: 6131 examples\n",
            "Digit 4: 5842 examples\n",
            "Digit 5: 5421 examples\n",
            "Digit 6: 5918 examples\n",
            "Digit 7: 6265 examples\n",
            "Digit 8: 5851 examples\n",
            "Digit 9: 5949 examples\n"
          ]
        }
      ]
    },
    {
      "cell_type": "code",
      "source": [
        "# Bar chart showing the number of examples per digit\n",
        "plt.figure(figsize=(8, 5))\n",
        "bars = plt.bar(unique, counts, color='green', alpha=0.7)\n",
        "plt.ylim(0, 10000)\n",
        "plt.xlabel(\"Digit\")\n",
        "plt.ylabel(\"Number of examples\")\n",
        "plt.title(\"Distribution of digits in the MNIST training set\")\n",
        "plt.xticks(unique)\n",
        "plt.grid(axis='y')\n",
        "\n",
        "# Add labels on top of each bar\n",
        "for bar in bars:\n",
        "    height = bar.get_height()\n",
        "    plt.text(bar.get_x() + bar.get_width() / 2, height + 500,\n",
        "             f'{height:.0f}', ha='center', va='bottom')\n",
        "\n",
        "plt.tight_layout()\n",
        "plt.show()\n"
      ],
      "metadata": {
        "colab": {
          "base_uri": "https://localhost:8080/",
          "height": 507
        },
        "id": "UHKN9vkPhLw0",
        "outputId": "7e3f0cd7-007a-426d-df56-913aa90da281"
      },
      "execution_count": 6,
      "outputs": [
        {
          "output_type": "display_data",
          "data": {
            "text/plain": [
              "<Figure size 800x500 with 1 Axes>"
            ],
            "image/png": "[encoded data removed]"
          },
          "metadata": {}
        }
      ]
    },
    {
      "cell_type": "markdown",
      "source": [
        "## Data Preprocessing: Normalization and One-Hot Encoding\n",
        "\n",
        "This code snippet performs two crucial data preprocessing steps:\n",
        "\n",
        "**1. Normalization:**\n",
        "```python\n",
        "x_train = x_train / 255.0\n",
        "x_test = x_test / 255.0\n",
        "```\n",
        "* **Purpose:** These lines normalize the pixel values of the images in the training and testing sets.\n",
        "* **Method:** Each pixel value (ranging from 0 to 255) is divided by 255.0, scaling the values to a range between 0.0 and 1.0.\n",
        "* **Benefits:** Normalization helps improve the performance and stability of the model during training by:\n",
        "    * Preventing features with larger values from dominating the learning process.\n",
        "    * Making the optimization process faster and more efficient.\n",
        "\n",
        "\n",
        "**2. One-Hot Encoding:**\n",
        "```python\n",
        "y_train_cat = to_categorical(y_train, 10)\n",
        "y_test_cat = to_categorical(y_test, 10)\n",
        "```\n",
        "\n",
        "* **Purpose:** These lines convert the numerical labels (0-9) into a one-hot encoded format.\n",
        "* **Method:** `to_categorical` function from Keras is used. It transforms the labels into a binary matrix where each row represents a sample and each column represents a class. The column corresponding to the correct label is set to 1, and all other columns are set to 0.\n",
        "* **Benefits:** One-hot encoding is necessary for multi-class classification problems as it allows the model to treat each class as a separate entity and learn the relationships between them effectively.\n",
        "\n",
        "Example:\n",
        "```python\n",
        "y_train[0] = 3\n",
        "to_categorical(3, 10) → [0, 0, 0, 1, 0, 0, 0, 0, 0, 0]\n",
        "```"
      ],
      "metadata": {
        "id": "t68ULUtDlQlE"
      }
    },
    {
      "cell_type": "code",
      "source": [
        "x_train = x_train / 255.0\n",
        "x_test = x_test / 255.0\n",
        "\n",
        "y_train_cat = to_categorical(y_train, 10)\n",
        "y_test_cat = to_categorical(y_test, 10)\n"
      ],
      "metadata": {
        "id": "VhWTIOQMkO-J"
      },
      "execution_count": 11,
      "outputs": []
    },
    {
      "cell_type": "code",
      "source": [
        "# prompt: print an example of y_train and y_train_cat to show how one-hot-encoding works\n",
        "\n",
        "print(\"Example of y_train:\")\n",
        "print(y_train[0])  # Print the original label\n",
        "\n",
        "print(\"\\nCorresponding y_train_cat (one-hot encoded):\")\n",
        "print(y_train_cat[0]) # Print the one-hot encoded vector\n"
      ],
      "metadata": {
        "colab": {
          "base_uri": "https://localhost:8080/"
        },
        "id": "4pyKfB11mToE",
        "outputId": "45f85f2a-8ce5-4fa7-8a1b-a93f520cbf92"
      },
      "execution_count": 12,
      "outputs": [
        {
          "output_type": "stream",
          "name": "stdout",
          "text": [
            "Example of y_train:\n",
            "5\n",
            "\n",
            "Corresponding y_train_cat (one-hot encoded):\n",
            "[0. 0. 0. 0. 0. 1. 0. 0. 0. 0.]\n"
          ]
        }
      ]
    },
    {
      "cell_type": "markdown",
      "source": [
        "## Build the model"
      ],
      "metadata": {
        "id": "_BzaUVf5m9W8"
      }
    },
    {
      "cell_type": "code",
      "source": [
        "model = Sequential([\n",
        "    Input(shape=(28, 28)),          # Input layer: expects 28x28 grayscale images (like MNIST)\n",
        "    Flatten(),                      # Flattens 2D 28x28 image into a 1D vector of 784 values\n",
        "    Dense(128, activation='relu'),  # Hidden layer with 128 neurons and ReLU activation\n",
        "    Dense(10, activation='softmax') # Output layer with 10 neurons (one for each digit 0–9)\n",
        "])\n"
      ],
      "metadata": {
        "id": "hKxVeskLm_g6"
      },
      "execution_count": 14,
      "outputs": []
    },
    {
      "cell_type": "markdown",
      "source": [
        "## Compile and train the model"
      ],
      "metadata": {
        "id": "uzKkwv3xnlvr"
      }
    },
    {
      "cell_type": "markdown",
      "source": [
        "### Understanding Training Parameters\n",
        "\n",
        "When we train the model with:\n",
        "\n",
        "```python\n",
        "model.fit(x_train, y_train_cat, epochs=5, batch_size=32, validation_split=0.2)\n",
        "```\n",
        "\n",
        "🔁 epochs=5\n",
        "The model will see the entire training dataset 5 times.\n",
        "\n",
        "Each time is called an epoch.\n",
        "\n",
        "Increasing this value can improve learning, but too many epochs may lead to overfitting.\n",
        "\n",
        "📦 batch_size=32\n",
        "Instead of updating weights after seeing all 48,000 training examples, the model processes them in mini-batches of 32 images at a time.\n",
        "\n",
        "Each batch causes a small update to the weights.\n",
        "\n",
        "A batch size of 32 is a common default that balances speed and stability.\n",
        "\n",
        "📊 validation_split=0.2\n",
        "20% of the training data is held out for validation.\n",
        "\n",
        "This validation set is not used to train the model, but helps monitor how well the model generalizes to unseen data.\n",
        "\n",
        "\n",
        "ℹ️ What does 1500/1500 mean in the training output?\n",
        "You’re using 80% of 60,000 images = 48,000 training examples.\n",
        "\n",
        "With batch_size=32, the model will process:\n",
        "\n",
        "48,000 / 32 = 1500 batches per epoch\n",
        "So 1500/1500 means the model has completed all 1500 weight updates (batches) for that epoch.\n"
      ],
      "metadata": {
        "id": "aMtqRbdcHX6D"
      }
    },
    {
      "cell_type": "code",
      "source": [
        "model.compile(optimizer='adam',\n",
        "              loss='categorical_crossentropy',\n",
        "              metrics=['accuracy'])"
      ],
      "metadata": {
        "id": "zZV7j85GnowP"
      },
      "execution_count": 15,
      "outputs": []
    },
    {
      "cell_type": "code",
      "source": [
        "model.fit(\n",
        "    x_train, y_train_cat,\n",
        "    epochs=5,             # Number of times the model will see the entire training dataset\n",
        "    batch_size=32,        # Number of samples processed before the model updates weights\n",
        "    validation_split=0.2  # Reserve 20% of training data to evaluate generalization (validation)\n",
        ")"
      ],
      "metadata": {
        "colab": {
          "base_uri": "https://localhost:8080/"
        },
        "id": "C1X4DO83JHfA",
        "outputId": "eba0b7b3-8ad6-44ba-cadc-c981b88181b3"
      },
      "execution_count": 16,
      "outputs": [
        {
          "output_type": "stream",
          "name": "stdout",
          "text": [
            "Epoch 1/5\n",
            "\u001b[1m1500/1500\u001b[0m \u001b[32m━━━━━━━━━━━━━━━━━━━━\u001b[0m\u001b[37m\u001b[0m \u001b[1m8s\u001b[0m 5ms/step - accuracy: 0.8638 - loss: 0.4737 - val_accuracy: 0.9532 - val_loss: 0.1615\n",
            "Epoch 2/5\n",
            "\u001b[1m1500/1500\u001b[0m \u001b[32m━━━━━━━━━━━━━━━━━━━━\u001b[0m\u001b[37m\u001b[0m \u001b[1m9s\u001b[0m 4ms/step - accuracy: 0.9593 - loss: 0.1432 - val_accuracy: 0.9669 - val_loss: 0.1138\n",
            "Epoch 3/5\n",
            "\u001b[1m1500/1500\u001b[0m \u001b[32m━━━━━━━━━━━━━━━━━━━━\u001b[0m\u001b[37m\u001b[0m \u001b[1m10s\u001b[0m 4ms/step - accuracy: 0.9742 - loss: 0.0877 - val_accuracy: 0.9710 - val_loss: 0.1022\n",
            "Epoch 4/5\n",
            "\u001b[1m1500/1500\u001b[0m \u001b[32m━━━━━━━━━━━━━━━━━━━━\u001b[0m\u001b[37m\u001b[0m \u001b[1m11s\u001b[0m 4ms/step - accuracy: 0.9813 - loss: 0.0649 - val_accuracy: 0.9715 - val_loss: 0.0947\n",
            "Epoch 5/5\n",
            "\u001b[1m1500/1500\u001b[0m \u001b[32m━━━━━━━━━━━━━━━━━━━━\u001b[0m\u001b[37m\u001b[0m \u001b[1m10s\u001b[0m 4ms/step - accuracy: 0.9848 - loss: 0.0494 - val_accuracy: 0.9738 - val_loss: 0.0914\n"
          ]
        },
        {
          "output_type": "execute_result",
          "data": {
            "text/plain": [
              "<keras.src.callbacks.history.History at 0x7d8adf2d4c10>"
            ]
          },
          "metadata": {},
          "execution_count": 16
        }
      ]
    },
    {
      "cell_type": "markdown",
      "source": [
        "## Predict outputs"
      ],
      "metadata": {
        "id": "3g5OzSLiJ190"
      }
    },
    {
      "cell_type": "code",
      "source": [
        "loss, acc = model.evaluate(x_test, y_test_cat)\n",
        "print(f\"Test accuracy: {acc:.2f}\")\n",
        "\n",
        "predictions = model.predict(x_test)"
      ],
      "metadata": {
        "colab": {
          "base_uri": "https://localhost:8080/"
        },
        "id": "ksIqrp4DJuPW",
        "outputId": "79271904-fb71-4616-c740-9bccd3dbd0f9"
      },
      "execution_count": 17,
      "outputs": [
        {
          "output_type": "stream",
          "name": "stdout",
          "text": [
            "\u001b[1m313/313\u001b[0m \u001b[32m━━━━━━━━━━━━━━━━━━━━\u001b[0m\u001b[37m\u001b[0m \u001b[1m1s\u001b[0m 2ms/step - accuracy: 0.9700 - loss: 0.0942\n",
            "Test accuracy: 0.97\n",
            "\u001b[1m313/313\u001b[0m \u001b[32m━━━━━━━━━━━━━━━━━━━━\u001b[0m\u001b[37m\u001b[0m \u001b[1m1s\u001b[0m 2ms/step\n"
          ]
        }
      ]
    },
    {
      "cell_type": "markdown",
      "source": [
        "Display a set of predicted outputs"
      ],
      "metadata": {
        "id": "IWj67h_PKKwZ"
      }
    },
    {
      "cell_type": "code",
      "source": [
        "plt.figure(figsize=(10, 4))\n",
        "for i in range(10):\n",
        "    plt.subplot(2, 5, i + 1)\n",
        "    plt.imshow(x_test[i], cmap='gray')\n",
        "    plt.title(f\"True: {y_test[i]}, Pred: {np.argmax(predictions[i])}\")\n",
        "    plt.axis('off')\n",
        "plt.tight_layout()\n",
        "plt.show()\n"
      ],
      "metadata": {
        "colab": {
          "base_uri": "https://localhost:8080/",
          "height": 410
        },
        "id": "vBIYuUZ2J6bI",
        "outputId": "02bd6bc9-2d1f-49e1-cc2a-d03d38d6876b"
      },
      "execution_count": 20,
      "outputs": [
        {
          "output_type": "display_data",
          "data": {
            "text/plain": [
              "<Figure size 1000x400 with 10 Axes>"
            ],
            "image/png": "[encoded data removed]"
          },
          "metadata": {}
        }
      ]
    }
  ]
}